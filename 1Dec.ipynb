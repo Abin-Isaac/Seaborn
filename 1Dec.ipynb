{
  "nbformat": 4,
  "nbformat_minor": 0,
  "metadata": {
    "colab": {
      "name": "1Dec.ipynb",
      "private_outputs": true,
      "provenance": []
    },
    "kernelspec": {
      "name": "python3",
      "display_name": "Python 3"
    },
    "language_info": {
      "name": "python"
    }
  },
  "cells": [
    {
      "cell_type": "markdown",
      "metadata": {
        "id": "c0X6mAkBmaTB"
      },
      "source": [
        "Source Links :\n",
        "\n",
        "[https://www.datacamp.com/community/tutorials/seaborn-python-tutorial#style](https://)  \n",
        "\n",
        
        "Author : Abin Isaac\n"
      ]
    },
    {
      "cell_type": "code",
      "metadata": {
        "id": "SpwROyDBWzUz"
      },
      "source": [
        "# Import necessary libraries\n",
        "import matplotlib.pyplot as plt\n",
        "import seaborn as sns\n",
        "\n",
        "# Load data\n",
        "iris = sns.load_dataset(\"iris\")\n",
        "tips = sns.load_dataset(\"tips\")\n",
        "\n",
        "# Initialize second subplot\n",
        "plt.subplot(212)\n",
        "\n",
        "# Plot violinplot\n",
        "sns.violinplot(x = \"total_bill\", data=tips)\n",
        "\n",
        "# Set axes style to white for first subplot\n",
        "with sns.axes_style(\"dark\"): #Try white, dark, whitegrid, darkgrid, ticks\n",
        "    plt.subplot(211)\n",
        "    sns.swarmplot(x=\"species\", y=\"petal_length\", data=iris)\n",
        "# Show the plot                   \n",
        "plt.show()"
      ],
      "execution_count": null,
      "outputs": []
    }
  ]
}
