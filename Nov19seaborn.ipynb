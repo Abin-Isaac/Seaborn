{
  "nbformat": 4,
  "nbformat_minor": 0,
  "metadata": {
    "colab": {
      "name": "Nov19seaborn.ipynb",
      "private_outputs": true,
      "provenance": []
    },
    "kernelspec": {
      "name": "python3",
      "display_name": "Python 3"
    },
    "language_info": {
      "name": "python"
    }
  },
  "cells": [
    {
      "cell_type": "markdown",
      "metadata": {
        "id": "cQDIYWcHIEZA"
      },
      "source": [
        "How To Scale Seaborn Plots For Other Contexts"
      ]
    },
    {
      "cell_type": "code",
      "metadata": {
        "id": "Mcff_LVMRgjw"
      },
      "source": [
        "# Import necessary libraries\n",
        "import matplotlib.pyplot as plt\n",
        "import seaborn as sns \n",
        "# import seaborn as sns1                   #sns1 is sns = True "
      ],
      "execution_count": null,
      "outputs": []
    },
    {
      "cell_type": "code",
      "metadata": {
        "id": "Rlfvln01IDiv"
      },
      "source": [
        "# Reset default params\n",
        "sns.set()\n",
        "\n",
        "# Set context to `\"paper\"`\n",
        "sns.set_context(\"notebook\")\n",
        "\n",
        "# Load iris data\n",
        "iris = sns.load_dataset(\"iris\")\n",
        "\n",
        "# Construct iris plot\n",
        "sns.swarmplot(x=\"species\", y=\"petal_length\", data=iris)\n",
        "\n",
        "# Show plot\n",
        "plt.show()"
      ],
      "execution_count": null,
      "outputs": []
    },
    {
      "cell_type": "code",
      "metadata": {
        "id": "7IdSyWctQ45q"
      },
      "source": [
        "# Reset default params\n",
        "sns.set()\n",
        "\n",
        "# Set context to `\"paper\"`\n",
        "sns1.set_context(\"talk\")\n",
        "\n",
        "\n",
        "# Load iris data\n",
        "iris = sns.load_dataset(\"iris\")\n",
        "\n",
        "# Construct iris plot\n",
        "sns.swarmplot(x=\"species\", y=\"petal_length\", data=iris)\n",
        "\n",
        "# Show plot\n",
        "plt.show()"
      ],
      "execution_count": null,
      "outputs": []
    },
    {
      "cell_type": "code",
      "metadata": {
        "id": "OR4K3DdfRBaG"
      },
      "source": [
        "# Reset default params\n",
        "sns.set()\n",
        "\n",
        "# Set context to `\"paper\"`\n",
        "\n",
        "sns.set_context(\"paper\")\n",
        "\n",
        "\n",
        "# Load iris data\n",
        "iris = sns.load_dataset(\"iris\")\n",
        "\n",
        "# Construct iris plot\n",
        "sns.swarmplot(x=\"species\", y=\"petal_length\", data=iris)\n",
        "\n",
        "# Show plot\n",
        "plt.show()"
      ],
      "execution_count": null,
      "outputs": []
    },
    {
      "cell_type": "code",
      "metadata": {
        "id": "fcoJL1L4RJFY"
      },
      "source": [
        "# Reset default params\n",
        "sns.set()\n",
        "\n",
        "# Set context to `\"paper\"`\n",
        "\n",
        "sns.set_context(\"poster\")\n",
        "\n",
        "# Load iris data\n",
        "iris = sns.load_dataset(\"iris\")\n",
        "\n",
        "# Construct iris plot\n",
        "sns.swarmplot(x=\"species\", y=\"petal_length\", data=iris)\n",
        "\n",
        "# Show plot\n",
        "plt.show()"
      ],
      "execution_count": null,
      "outputs": []
    },
    {
      "cell_type": "code",
      "metadata": {
        "id": "ZVP8FWHASoWy"
      },
      "source": [
        "# Set context to `\"paper\"`\n",
        "sns.set_context(\"paper\", font_scale=5, rc={\"font.size\":1,\"axes.labelsize\":10}) # Try font_scale = 2\n",
        "\n",
        "# Load iris data\n",
        "iris = sns.load_dataset(\"iris\")\n",
        "\n",
        "# Construct iris plot\n",
        "sns.swarmplot(x=\"species\", y=\"petal_length\", data=iris)\n",
        "\n",
        "# Show plot\n",
        "plt.show()"
      ],
      "execution_count": null,
      "outputs": []
    }
  ]
}